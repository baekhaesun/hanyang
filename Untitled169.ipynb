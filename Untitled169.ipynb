{
  "nbformat": 4,
  "nbformat_minor": 0,
  "metadata": {
    "colab": {
      "name": "Untitled169.ipynb",
      "provenance": [],
      "collapsed_sections": [],
      "authorship_tag": "ABX9TyOnxAL53nm/OJ027OogPw1N",
      "include_colab_link": true
    },
    "kernelspec": {
      "name": "python3",
      "display_name": "Python 3"
    },
    "language_info": {
      "name": "python"
    }
  },
  "cells": [
    {
      "cell_type": "markdown",
      "metadata": {
        "id": "view-in-github",
        "colab_type": "text"
      },
      "source": [
        "<a href=\"https://colab.research.google.com/github/baekhaesun/hanyang/blob/main/Untitled169.ipynb\" target=\"_parent\"><img src=\"https://colab.research.google.com/assets/colab-badge.svg\" alt=\"Open In Colab\"/></a>"
      ]
    },
    {
      "cell_type": "code",
      "execution_count": null,
      "metadata": {
        "id": "CfKNcO6SC6xt"
      },
      "outputs": [],
      "source": [
        "#2022학년도 1학년 1학기 프로그래밍(파이썬) 수행평가\n",
        "#한양공업고등학교 1학년 12반 25번 백해선"
      ]
    },
    {
      "cell_type": "code",
      "source": [
        "'''\n",
        "1 . 변수 사용하기\n",
        "삼성전자라는 변수로 50,000원을 바인딩해보세요. \n",
        "삼성전자 주식 10주를 보유하고 있을 때 총 평가금액을 출력하세요.\n",
        "'''\n",
        "삼성전자 = 50000\n",
        "총평가금액 = 삼성전자 * 10\n",
        "print(총평가금액)"
      ],
      "metadata": {
        "id": "kueHTXPTDIWM",
        "colab": {
          "base_uri": "https://localhost:8080/"
        },
        "outputId": "81ca05aa-c26b-4ae5-fe4c-fa2bcf6eede1"
      },
      "execution_count": 2,
      "outputs": [
        {
          "output_type": "stream",
          "name": "stdout",
          "text": [
            "500000\n"
          ]
        }
      ]
    },
    {
      "cell_type": "code",
      "source": [
        "'''\n",
        "2. 문자열을 정수로 변환\n",
        "year라는 변수가 문자열 타입의 연도를 바인딩하고 있습니다. \n",
        "이를 정수로 변환한 후 최근 3년의 연도를 화면에 출력해보세요.\n",
        "'''\n",
        "year = \"2020\"\n",
        "print(int(year)-1)\n",
        "print(int(year)-2)\n",
        "print(int(year)-3)"
      ],
      "metadata": {
        "id": "aIy9TxcUDN3c",
        "colab": {
          "base_uri": "https://localhost:8080/"
        },
        "outputId": "9a8947c7-2d35-413b-db6a-66cc3af02947"
      },
      "execution_count": 4,
      "outputs": [
        {
          "output_type": "stream",
          "name": "stdout",
          "text": [
            "2019\n",
            "2018\n",
            "2017\n"
          ]
        }
      ]
    },
    {
      "cell_type": "code",
      "source": [
        "#3. 아래의 문자열에서 '홀' 만 출력하세요. \n",
        "string = \"홀짝홀짝홀짝\"\n",
        "string[::2]"
      ],
      "metadata": {
        "id": "GURWjdCZDr87",
        "colab": {
          "base_uri": "https://localhost:8080/",
          "height": 35
        },
        "outputId": "e9243b37-b260-4376-e864-2c043a749c8b"
      },
      "execution_count": 8,
      "outputs": [
        {
          "output_type": "execute_result",
          "data": {
            "text/plain": [
              "'홀홀홀'"
            ],
            "application/vnd.google.colaboratory.intrinsic+json": {
              "type": "string"
            }
          },
          "metadata": {},
          "execution_count": 8
        }
      ]
    },
    {
      "cell_type": "code",
      "source": [
        "#4. 문자열을 거꾸로 뒤집어 출력하세요.\n",
        "string = \"PYTHON\"\n",
        "string[::-1]"
      ],
      "metadata": {
        "id": "Ob72H_ABD5bs",
        "colab": {
          "base_uri": "https://localhost:8080/",
          "height": 35
        },
        "outputId": "5eecd179-6323-4923-a4e0-e978d6bc060c"
      },
      "execution_count": 9,
      "outputs": [
        {
          "output_type": "execute_result",
          "data": {
            "text/plain": [
              "'NOHTYP'"
            ],
            "application/vnd.google.colaboratory.intrinsic+json": {
              "type": "string"
            }
          },
          "metadata": {},
          "execution_count": 9
        }
      ]
    },
    {
      "cell_type": "code",
      "source": [
        "#5. movie_rank 리스트에는 아래와 같이 네 개의 영화 제목이 바인딩되어 있다. \n",
        "#   \"슈퍼맨\"을 \"닥터 스트레인지\"와 \"스플릿\" 사이에 추가하라.\n",
        "movie_rank = ['닥터 스트레인지', '스플릿', '럭키', '배트맨']\n",
        "movie_rank.insert(1,\"슈퍼맨\")\n",
        "movie_rank"
      ],
      "metadata": {
        "id": "pMsM59Q4EK0J",
        "colab": {
          "base_uri": "https://localhost:8080/"
        },
        "outputId": "025f1696-44c9-43ad-99e5-49340523d793"
      },
      "execution_count": 10,
      "outputs": [
        {
          "output_type": "execute_result",
          "data": {
            "text/plain": [
              "['닥터 스트레인지', '슈퍼맨', '스플릿', '럭키', '배트맨']"
            ]
          },
          "metadata": {},
          "execution_count": 10
        }
      ]
    },
    {
      "cell_type": "code",
      "source": [
        "#6. 슬라이싱을 사용해서 홀수만 출력하라.\n",
        "nums = [1, 2, 3, 4, 5, 6, 7, 8, 9, 10]\n",
        "print(nums[::2])"
      ],
      "metadata": {
        "id": "T9s1zFMOEZ6e",
        "colab": {
          "base_uri": "https://localhost:8080/"
        },
        "outputId": "3f8cf98e-cedc-4ed5-af59-c49aac297e57"
      },
      "execution_count": 11,
      "outputs": [
        {
          "output_type": "stream",
          "name": "stdout",
          "text": [
            "[1, 3, 5, 7, 9]\n"
          ]
        }
      ]
    },
    {
      "cell_type": "code",
      "source": [
        "#7. 리스트에 있는 값을 오름차순으로 정렬하세요.\n",
        "data = [2, 4, 3, 1, 5, 10, 9]\n",
        "data.sort()\n",
        "print(data)"
      ],
      "metadata": {
        "id": "7_Viq-10E3Ui",
        "colab": {
          "base_uri": "https://localhost:8080/"
        },
        "outputId": "dc10ee27-0b8e-4c19-b97c-16ffbd63451b"
      },
      "execution_count": 13,
      "outputs": [
        {
          "output_type": "stream",
          "name": "stdout",
          "text": [
            "[1, 2, 3, 4, 5, 9, 10]\n"
          ]
        }
      ]
    },
    {
      "cell_type": "code",
      "source": [
        "#8. 문자열 출력\n",
        "'''0000\n",
        "변수에 다음과 같이 문자열과 정수가 바인딩되어 있을 때 % formatting을 사용해서 다음과 같이 출력해보세요.\n",
        "\n",
        "'''\n",
        "name1 = \"김민수\" \n",
        "age1 = 10\n",
        "name2 = \"이철희\"\n",
        "age2 = 13\n",
        "print(\"이름 : %s 나이 : %d\" % (name1, age1))\n",
        "print(\"이름 : %s 나이 : %d\" % (name2, age2))"
      ],
      "metadata": {
        "id": "lQvirgdEFxVB",
        "colab": {
          "base_uri": "https://localhost:8080/"
        },
        "outputId": "ac070791-ca34-4422-d5b0-bd706423fe3f"
      },
      "execution_count": 17,
      "outputs": [
        {
          "output_type": "stream",
          "name": "stdout",
          "text": [
            "이름 : 김민수 나이 : 10\n",
            "이름 : 이철희 나이 : 13\n"
          ]
        }
      ]
    }
  ]
}